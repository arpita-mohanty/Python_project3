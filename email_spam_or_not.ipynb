{
  "nbformat": 4,
  "nbformat_minor": 0,
  "metadata": {
    "colab": {
      "provenance": []
    },
    "kernelspec": {
      "name": "python3",
      "display_name": "Python 3"
    },
    "language_info": {
      "name": "python"
    }
  },
  "cells": [
    {
      "cell_type": "code",
      "execution_count": null,
      "metadata": {
        "colab": {
          "base_uri": "https://localhost:8080/"
        },
        "id": "l1Qob94v-83H",
        "outputId": "d73bce45-4047-42fe-efa8-0e408504e84c"
      },
      "outputs": [
        {
          "output_type": "stream",
          "name": "stderr",
          "text": [
            "<ipython-input-5-3d1beaba180b>:56: RuntimeWarning: overflow encountered in exp\n",
            "  return 1.0 / (1.0 + np.exp(-x))\n"
          ]
        },
        {
          "output_type": "stream",
          "name": "stdout",
          "text": [
            "Accuracy =  89.16666666666667\n"
          ]
        }
      ],
      "source": [
        "\n",
        "from sklearn import preprocessing\n",
        "import numpy as np\n",
        "import matplotlib.pyplot as plt\n",
        "import sklearn\n",
        "from sklearn.datasets import make_classification\n",
        "from sklearn.datasets import make_blobs\n",
        "from sklearn.datasets import make_gaussian_quantiles\n",
        "from sklearn.model_selection import train_test_split\n",
        "from sklearn import svm\n",
        "from sklearn.neighbors import KNeighborsClassifier\n",
        "from sklearn.decomposition import PCA\n",
        "from sklearn.metrics import accuracy_score\n",
        "from sklearn.feature_extraction.text import CountVectorizer\n",
        "from sklearn.metrics import zero_one_loss\n",
        "import itertools\n",
        "from collections import Counter\n",
        "import string\n",
        "import sys\n",
        "import warnings\n",
        "from collections import OrderedDict\n",
        "from hashlib import md5\n",
        "from six.moves import range\n",
        "from six.moves import zip\n",
        "import os\n",
        "import time\n",
        "import datetime\n",
        "import pandas as pd\n",
        "import sklearn.metrics\n",
        "from nltk.corpus import wordnet\n",
        "from nltk.tokenize import word_tokenize\n",
        "from random import randint\n",
        "import csv, datetime, time, json\n",
        "from zipfile import ZipFile\n",
        "from os.path import expanduser, exists\n",
        "from sklearn.model_selection import train_test_split\n",
        "\n",
        "#Hyperparameters\n",
        "max_features = 50000\n",
        "maxlen = 400\n",
        "ITERATION = 100000\n",
        "batch_size = 32\n",
        "embedding_dims = 100\n",
        "filters = 10\n",
        "kernel_size = 5\n",
        "hidden_dims = 250\n",
        "epochs = 2\n",
        "DROPOUT = 0.1\n",
        "VALIDATION_SPLIT = 0.1\n",
        "HIDDEN_NODE = 4\n",
        "OPTIMIZER = 'adam'\n",
        "\n",
        "\n",
        "def derivative(x):\n",
        "    return x*(1.0-x)\n",
        "def sigmoid(x):\n",
        "    return 1.0 / (1.0 + np.exp(-x))\n",
        "x_result = []\n",
        "y_result = []\n",
        "\n",
        "\n",
        "with open('/content/spam_data.csv') as f:\n",
        "    for line in f:\n",
        "        curr = line.split(',')\n",
        "        new_curr = [1]\n",
        "        for item in curr[:len(curr) - 1]:\n",
        "            new_curr.append(float(item))\n",
        "        x_result.append(new_curr)\n",
        "        y_result.append([float(curr[-1])])\n",
        "x_result = np.array(x_result)\n",
        "x_result = preprocessing.scale(x_result)\n",
        "y_result = np.array(y_result)\n",
        "\n",
        "x_train, x_test, y_train, y_test = train_test_split(x_result, y_result, test_size=0.2)\n",
        "\n",
        "d1 = len(x_train[0])\n",
        "d2 = HIDDEN_NODE\n",
        "\n",
        "np.random.seed(1)\n",
        "w0 = 2 * np.random.random((d1, d2)) - 1\n",
        "w1 = 2 * np.random.random((d2, 1)) - 1\n",
        "\n",
        "for j in range(ITERATION):\n",
        "    l0 = x_train\n",
        "    l1 = sigmoid(np.dot(l0,w0))\n",
        "    l2 = sigmoid(np.dot(l1,w1))\n",
        "    l2e = y_train - l2\n",
        "    l2d = l2e * derivative(l2)\n",
        "    l1e = l2d.dot(w1.T)\n",
        "    l1d = l1e * derivative(l1)\n",
        "    w1 += l1.T.dot(l2d)\n",
        "    w0 += l0.T.dot(l1d)\n",
        "\n",
        "l0 = x_test\n",
        "l1 = sigmoid(np.dot(l0,w0))\n",
        "l2 = sigmoid(np.dot(l1,w1))\n",
        "correct = 0\n",
        "for i in range(len(l2)):\n",
        "    if(l2[i][0] > 0.5):\n",
        "        l2[i][0] = 1\n",
        "    else:\n",
        "        l2[i][0] = 0\n",
        "    if(l2[i][0] == y_test[i][0]):\n",
        "        correct += 1\n",
        "print(\"Accuracy = \", correct * 100.0 / len(l2))"
      ]
    }
  ]
}